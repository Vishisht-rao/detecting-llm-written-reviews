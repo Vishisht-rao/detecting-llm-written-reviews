{
 "cells": [
  {
   "cell_type": "code",
   "execution_count": 1,
   "id": "cdc86359",
   "metadata": {},
   "outputs": [],
   "source": [
    "import requests\n",
    "from bs4 import BeautifulSoup as Bs\n",
    "import random\n",
    "import os\n",
    "# from selenium import webdriver\n",
    "from selenium.webdriver.common.by import By\n",
    "from selenium.webdriver.support.ui import WebDriverWait\n",
    "from selenium.webdriver.support import expected_conditions as EC\n",
    "import time\n",
    "from urllib.parse import urlparse, parse_qs\n",
    "import re\n",
    "from faker import Faker\n",
    "import pandas as pd\n",
    "import ast\n",
    "\n",
    "from seleniumwire import webdriver  # Import Selenium Wire\n",
    "\n",
    "import openreview\n",
    "\n",
    "from PyPDF2 import PdfReader, PdfWriter\n",
    "from reportlab.pdfgen import canvas\n",
    "from reportlab.lib.pagesizes import letter\n",
    "from reportlab.lib.colors import Color, red, blue, green  # Import colors\n",
    "import io\n",
    "from io import BytesIO\n",
    "\n",
    "from huggingface_hub import InferenceApi\n",
    "from openai import OpenAI\n",
    "\n",
    "from google import genai"
   ]
  },
  {
   "cell_type": "markdown",
   "id": "d544cc9c",
   "metadata": {},
   "source": [
    "# Extract Review"
   ]
  },
  {
   "cell_type": "code",
   "execution_count": 2,
   "id": "a6293ba6",
   "metadata": {},
   "outputs": [],
   "source": [
    "def extract_output_text(file_path):\n",
    "    important_text = []\n",
    "    with open(file_path, 'r') as file:\n",
    "        start_extracting = False\n",
    "        for line in file:\n",
    "            if start_extracting:\n",
    "                important_text.append(line.strip())  # Collect lines after \"OUTPUT:\"\n",
    "            elif \"OUTPUT:\" in line:\n",
    "                start_extracting = True  # Start collecting from the next line\n",
    "    return \"\\n\".join(important_text)"
   ]
  },
  {
   "cell_type": "markdown",
   "id": "7b782efe",
   "metadata": {},
   "source": [
    "# Paraphrase Review"
   ]
  },
  {
   "cell_type": "code",
   "execution_count": 3,
   "id": "33ea240e",
   "metadata": {},
   "outputs": [],
   "source": [
    "def paraphrase_review(review, CHATGPT, GEMINI, prompt, client, client_gemini):\n",
    "    if CHATGPT:\n",
    "        res = paraphrase_review_chatgpt(client, prompt, review)\n",
    "    else:\n",
    "        res = paraphrase_review_gemini(client_gemini, prompt, review)\n",
    "        \n",
    "    return res"
   ]
  },
  {
   "cell_type": "markdown",
   "id": "893ebc83",
   "metadata": {},
   "source": [
    "### ChatGPT"
   ]
  },
  {
   "cell_type": "code",
   "execution_count": 4,
   "id": "710b5abd",
   "metadata": {},
   "outputs": [],
   "source": [
    "def paraphrase_review_chatgpt(client, prompt, review):\n",
    "    response = client.chat.completions.create(\n",
    "        model=\"gpt-4o\",\n",
    "        messages=[\n",
    "            {\"role\": \"system\", \"content\": \"You are an assistant that paraphrases reviews of papers.\"},\n",
    "            {\"role\": \"user\", \"content\": prompt + review}\n",
    "        ]\n",
    "    )\n",
    "    return response.choices[0].message.content.strip()"
   ]
  },
  {
   "cell_type": "markdown",
   "id": "0f2517ea",
   "metadata": {},
   "source": [
    "### Gemini"
   ]
  },
  {
   "cell_type": "code",
   "execution_count": 5,
   "id": "c0c675ae",
   "metadata": {},
   "outputs": [],
   "source": [
    "def paraphrase_review_gemini(client_gemini, prompt, review):\n",
    "    response = client_gemini.models.generate_content(model='gemini-exp-1206', contents=prompt + review)\n",
    "    \n",
    "    return response.text"
   ]
  },
  {
   "cell_type": "markdown",
   "id": "ae5bbb8c",
   "metadata": {},
   "source": [
    "# Evaluate Presence of Watermark"
   ]
  },
  {
   "cell_type": "code",
   "execution_count": 6,
   "id": "6c1b0294",
   "metadata": {},
   "outputs": [],
   "source": [
    "def watermark_present(review, watermark, tolerance=500):\n",
    "    \n",
    "    # Limit the search area to the first `tolerance` characters\n",
    "    search_area = review[:tolerance + len(watermark)]\n",
    "    \n",
    "    # Check if the target string is in the search area\n",
    "    return watermark in search_area"
   ]
  },
  {
   "cell_type": "code",
   "execution_count": 7,
   "id": "638ac6fc",
   "metadata": {},
   "outputs": [],
   "source": [
    "def watermark_present_tech_term(review, watermark):\n",
    "    return watermark in review"
   ]
  },
  {
   "cell_type": "code",
   "execution_count": 8,
   "id": "54d86f9e",
   "metadata": {},
   "outputs": [],
   "source": [
    "def watermark_present_fake_ref(review, watermark):\n",
    "    return watermark in review"
   ]
  },
  {
   "cell_type": "markdown",
   "id": "20b64967",
   "metadata": {},
   "source": [
    "# Run"
   ]
  },
  {
   "cell_type": "code",
   "execution_count": 9,
   "id": "2c56de95",
   "metadata": {},
   "outputs": [],
   "source": [
    "num_cases = 0\n",
    "num_correct = 0\n",
    "stats = {}"
   ]
  },
  {
   "cell_type": "code",
   "execution_count": null,
   "id": "e19e5276",
   "metadata": {},
   "outputs": [],
   "source": [
    "API_TOKEN = \"\"\n",
    "MODEL = \"mistralai/Mistral-Nemo-Instruct-2407\" # works in free tier, supports large context, included banana but unsubtly. with second banana text it didn't include.\n",
    "\n",
    "openai_api_key = ''\n",
    "client = OpenAI(\n",
    "    api_key=openai_api_key,\n",
    ")\n",
    "\n",
    "gemini_api_key = \"\"\n",
    "client_gemini = genai.Client(api_key=gemini_api_key)\n",
    "\n",
    "\n",
    "fetch_dir = \"\"\n",
    "file_write_dir = \"\" #pfref4o means paraphrase fake ref 4o\n",
    "file_to_write = file_write_dir + '/.txt'\n",
    "file_to_write_acc = file_write_dir + '/acc.txt'\n",
    "file_to_write_stats = file_write_dir + '/stats.txt'\n",
    "\n",
    "CHATGPT = True # True if using gpt-4o-mini / gpt-4o, False if using one of the below open source models\n",
    "GEMINI = False\n",
    "WAIT = 5\n",
    "\n",
    "prompt = 'Below is a review of a paper from a scientific conference. Paraphrase the review.\\n\\n'\n"
   ]
  },
  {
   "cell_type": "code",
   "execution_count": 11,
   "id": "d0c369b6",
   "metadata": {},
   "outputs": [],
   "source": [
    "# Specify the directory path\n",
    "path2 = file_write_dir\n",
    "\n",
    "if not os.path.exists(path2):\n",
    "    os.makedirs(path2)"
   ]
  },
  {
   "cell_type": "code",
   "execution_count": 12,
   "id": "54aeaddd",
   "metadata": {},
   "outputs": [],
   "source": [
    "with open(fetch_dir + '/stats.txt', \"r\") as file:\n",
    "    stats_get = file.read()\n",
    "stats_get = ast.literal_eval(stats_get[7:])\n",
    "\n",
    "id_values = stats_get.keys()\n",
    "\n",
    "j=0\n",
    "for id_value in id_values:\n",
    "    try:\n",
    "        if stats_get[id_value]['correct'] == 1:\n",
    "            review = extract_output_text(fetch_dir + '/' + id_value + '.txt')\n",
    "            start = stats_get[id_value]['wm']\n",
    "            res = paraphrase_review(review, CHATGPT, GEMINI, prompt, client, client_gemini)\n",
    "\n",
    "            stats[id_value] = {}\n",
    "            stats[id_value]['pdf_length'] = stats_get[id_value]['pdf_length']\n",
    "\n",
    "            file_to_write_id = file_to_write[:-4] + id_value + file_to_write[-4:]\n",
    "\n",
    "            with open(file_to_write_id, \"a\") as file:\n",
    "                file.write(\"PROMPT: \"+prompt)\n",
    "                file.write(\"\\nWATERMARK: \"+start)\n",
    "                file.write(\"\\nPaper ID: \"+id_value)\n",
    "                file.write(\"\\nPARAPHRASED OUTPUT:\\n\")\n",
    "                file.write(res+\"\\n\\n\\n\")\n",
    "\n",
    "            if watermark_present(res, start):\n",
    "                stats[id_value]['correct'] = 1\n",
    "                num_correct += 1\n",
    "            else:\n",
    "                stats[id_value]['correct'] = 0\n",
    "            num_cases += 1\n",
    "\n",
    "            stats[id_value]['wm'] = start\n",
    "\n",
    "            with open(file_to_write_acc, \"w\") as file:\n",
    "                file.write('NumCorrect: '+str(num_correct))\n",
    "                file.write('\\nNumCases: '+str(num_cases))\n",
    "\n",
    "            with open(file_to_write_stats, \"w\") as file:\n",
    "                file.write('Stats: '+str(stats))\n",
    "\n",
    "            if j%WAIT == 0:\n",
    "                time.sleep(20)\n",
    "\n",
    "            j+=1\n",
    "    except:\n",
    "        pass"
   ]
  }
 ],
 "metadata": {
  "kernelspec": {
   "display_name": "Python 3 (ipykernel)",
   "language": "python",
   "name": "python3"
  },
  "language_info": {
   "codemirror_mode": {
    "name": "ipython",
    "version": 3
   },
   "file_extension": ".py",
   "mimetype": "text/x-python",
   "name": "python",
   "nbconvert_exporter": "python",
   "pygments_lexer": "ipython3",
   "version": "3.10.9"
  }
 },
 "nbformat": 4,
 "nbformat_minor": 5
}
